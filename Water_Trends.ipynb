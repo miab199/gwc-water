{
  "nbformat": 4,
  "nbformat_minor": 0,
  "metadata": {
    "colab": {
      "provenance": [],
      "authorship_tag": "ABX9TyNI/LS5wKRj8O7DkBUzd8Gg"
    },
    "kernelspec": {
      "name": "python3",
      "display_name": "Python 3"
    },
    "language_info": {
      "name": "python"
    }
  },
  "cells": [
    {
      "cell_type": "code",
      "execution_count": null,
      "metadata": {
        "id": "-7kYlQdF9Zny",
        "colab": {
          "base_uri": "https://localhost:8080/"
        },
        "outputId": "3a52c2db-8848-4e83-b179-4bf4ed1eb588"
      },
      "outputs": [
        {
          "output_type": "stream",
          "name": "stdout",
          "text": [
            "Requirement already satisfied: numpy in /usr/local/lib/python3.12/dist-packages (2.0.2)\n"
          ]
        }
      ],
      "source": [
        "!pip install numpy"
      ]
    },
    {
      "cell_type": "code",
      "source": [
        "a=10"
      ],
      "metadata": {
        "id": "CKLTmlDTAkbu"
      },
      "execution_count": null,
      "outputs": []
    },
    {
      "cell_type": "code",
      "source": [
        "import numpy as np"
      ],
      "metadata": {
        "id": "8EJap5XK-u6R"
      },
      "execution_count": null,
      "outputs": []
    },
    {
      "cell_type": "code",
      "source": [
        "np.abs(-10)"
      ],
      "metadata": {
        "id": "e0zfOxRd-x40",
        "colab": {
          "base_uri": "https://localhost:8080/"
        },
        "outputId": "5c72d62b-c085-444e-fde3-d8f65ae40255"
      },
      "execution_count": null,
      "outputs": [
        {
          "output_type": "execute_result",
          "data": {
            "text/plain": [
              "np.int64(10)"
            ]
          },
          "metadata": {},
          "execution_count": 5
        }
      ]
    },
    {
      "cell_type": "code",
      "source": [
        "variable = np.abs(-10)"
      ],
      "metadata": {
        "id": "pHsCnof8AJO-"
      },
      "execution_count": null,
      "outputs": []
    },
    {
      "cell_type": "code",
      "source": [
        "variable"
      ],
      "metadata": {
        "id": "dBOQ8HBF_Isv",
        "colab": {
          "base_uri": "https://localhost:8080/"
        },
        "outputId": "704c52bb-90c9-4b47-9aff-bfa20fad8b2e"
      },
      "execution_count": null,
      "outputs": [
        {
          "output_type": "execute_result",
          "data": {
            "text/plain": [
              "np.int64(10)"
            ]
          },
          "metadata": {},
          "execution_count": 7
        }
      ]
    },
    {
      "cell_type": "code",
      "source": [
        "print(variable)"
      ],
      "metadata": {
        "id": "fYJ-WsEC_MAD"
      },
      "execution_count": null,
      "outputs": []
    }
  ]
}